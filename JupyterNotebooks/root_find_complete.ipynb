{
 "cells": [
  {
   "cell_type": "code",
   "execution_count": 1,
   "metadata": {},
   "outputs": [],
   "source": [
    "import numpy as np\n",
    "import matplotlib.pyplot as plt\n",
    "\n",
    "import time"
   ]
  },
  {
   "cell_type": "code",
   "execution_count": 2,
   "metadata": {},
   "outputs": [],
   "source": [
    "# define a generator function for the polynomial\n",
    "def generator_function(x,*par):\n",
    "    return par[0]+par[1]*x+par[2]*x*x+par[3]*x*x*x\n",
    "\n",
    "# Set the x limits, and the number of points, and calculate the interval\n",
    "xl = -4.0\n",
    "xh = 4.0\n",
    "npoints = 10000\n",
    "\n",
    "dx = (xh-xl)/npoints\n",
    "\n",
    "xroots = []\n",
    "yroots = []\n",
    "xstep = []\n",
    "ystep = []\n",
    "\n",
    "#par = np.array([-3.0,-3.0,3.0,1.0])\n",
    "par = np.array([0.0,0.0,0.0,1.0])\n",
    "\n",
    "nroots_expected = 1"
   ]
  },
  {
   "cell_type": "code",
   "execution_count": 3,
   "metadata": {},
   "outputs": [],
   "source": [
    "# Define the data arrays (x and y)\n",
    "xval = np.arange(xl,xh,dx)\n",
    "yval = generator_function(xval,*par)"
   ]
  },
  {
   "cell_type": "code",
   "execution_count": 4,
   "metadata": {},
   "outputs": [
    {
     "name": "stdout",
     "output_type": "stream",
     "text": [
      "Found root at x = 0.000400\n",
      "\n",
      "Total number of roots found = 1\n",
      "\n"
     ]
    }
   ],
   "source": [
    "for nsearch in range(1,int(npoints/2)):\n",
    "    \n",
    "    start = time.time()\n",
    "\n",
    "    niter = npoints/nsearch\n",
    "    ycomp = yval[0]\n",
    "    nroots_found = 0\n",
    "\n",
    "    for i in range(0,int(niter)):\n",
    "        y = yval[nsearch*i]\n",
    "        if (y==0):\n",
    "            if (nsearch == 1):\n",
    "                print (\"Found exact root at x = %f\\n\" % xval[nsearch*i])\n",
    "            nroots_found = nroots_found + 1\n",
    "        if (y*ycomp<0.0):\n",
    "            xlow = xval[nsearch*(i-1)]\n",
    "            xhigh = xval[nsearch*i]\n",
    "            epsilon = 1.0E-10\n",
    "            diff = 1.0E12\n",
    "            while (diff>epsilon):\n",
    "                fa = generator_function(xlow,*par)\n",
    "                fb = generator_function(xhigh,*par)\n",
    "                xmid = (xhigh+xlow)/2.0\n",
    "                fc = generator_function(xmid,*par)\n",
    "                product = fa*fc\n",
    "                if (product < 0):\n",
    "                    xhigh = xmid\n",
    "                else:\n",
    "                    xlow = xmid\n",
    "\n",
    "                diff = np.abs(fc)\n",
    "\n",
    "            if (nsearch == 1):\n",
    "                print (\"Found root at x = %f\\n\" % xmid)\n",
    "            nroots_found = nroots_found + 1\n",
    "            ycomp = y\n",
    "        else:\n",
    "            ycomp = y\n",
    "\n",
    "    if (nsearch == 1):\n",
    "        print (\"Total number of roots found = %d\\n\" % nroots_found)\n",
    "    \n",
    "    xstep.append(nsearch)\n",
    "    \n",
    "    end = time.time()\n",
    "    \n",
    "    if (nroots_found == nroots_expected):\n",
    "        ystep.append(1000.0*(end-start))\n",
    "    else:\n",
    "        ystep.append(30)\n",
    "    "
   ]
  },
  {
   "cell_type": "code",
   "execution_count": 5,
   "metadata": {},
   "outputs": [
    {
     "data": {
      "image/png": "[encoded data removed]",
      "text/plain": [
       "<Figure size 432x288 with 1 Axes>"
      ]
     },
     "metadata": {
      "needs_background": "light"
     },
     "output_type": "display_data"
    }
   ],
   "source": [
    "# Generate the figure and the axes \n",
    "fig, axs = plt.subplots(nrows=1, ncols=1) \n",
    "\n",
    "# On the first axis, plot the sine and label the ordinate\n",
    "plt.yscale('log')\n",
    "plt.xscale('log')\n",
    "axs.plot(xstep,ystep,'.')\n",
    "axs.set_ylabel('Time (ms)')\n",
    "axs.set_xlabel('Interval size')\n",
    "axs.axhline()\n",
    "plt.grid(True)\n",
    "#axs.set_xlim(1000,5000)\n",
    "plt.show()"
   ]
  },
  {
   "cell_type": "code",
   "execution_count": null,
   "metadata": {},
   "outputs": [],
   "source": []
  },
  {
   "cell_type": "code",
   "execution_count": null,
   "metadata": {},
   "outputs": [],
   "source": []
  },
  {
   "cell_type": "code",
   "execution_count": null,
   "metadata": {},
   "outputs": [],
   "source": []
  },
  {
   "cell_type": "code",
   "execution_count": null,
   "metadata": {},
   "outputs": [],
   "source": []
  },
  {
   "cell_type": "code",
   "execution_count": null,
   "metadata": {},
   "outputs": [],
   "source": []
  }
 ],
 "metadata": {
  "kernelspec": {
   "display_name": "Python 3",
   "language": "python",
   "name": "python3"
  },
  "language_info": {
   "codemirror_mode": {
    "name": "ipython",
    "version": 3
   },
   "file_extension": ".py",
   "mimetype": "text/x-python",
   "name": "python",
   "nbconvert_exporter": "python",
   "pygments_lexer": "ipython3",
   "version": "3.6.8"
  }
 },
 "nbformat": 4,
 "nbformat_minor": 2
}
